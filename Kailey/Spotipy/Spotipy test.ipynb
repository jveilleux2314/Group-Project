{
 "cells": [
  {
   "cell_type": "code",
   "execution_count": 1,
   "metadata": {},
   "outputs": [],
   "source": [
    "import spotipy\n",
    "from spotipy.oauth2 import SpotifyClientCredentials\n",
    "import pandas as pd\n",
    "import time\n",
    "from sqlalchemy import create_engine"
   ]
  },
  {
   "cell_type": "code",
   "execution_count": 2,
   "metadata": {},
   "outputs": [],
   "source": [
    "from config import SPOTIPY_CLIENT_ID, SPOTIPY_CLIENT_SECRET, user_info, connection_string"
   ]
  },
  {
   "cell_type": "code",
   "execution_count": 3,
   "metadata": {},
   "outputs": [],
   "source": [
    "#Set up Spotify credentials\n",
    "client_credentials_manager = SpotifyClientCredentials(SPOTIPY_CLIENT_ID, SPOTIPY_CLIENT_SECRET)\n",
    "sp = spotipy.Spotify(client_credentials_manager=client_credentials_manager)"
   ]
  },
  {
   "cell_type": "code",
   "execution_count": null,
   "metadata": {},
   "outputs": [],
   "source": [
    "#Set up Hot 100 csv\n",
    "hot100 = pd.read_csv('charts.csv')\n",
    "\n",
    "#Empty Hot 100 cells?\n",
    "hot100.isnull().sum()"
   ]
  },
  {
   "cell_type": "code",
   "execution_count": null,
   "metadata": {},
   "outputs": [],
   "source": [
    "# Clean DataFrame\n",
    "hot100 = hot100.drop(columns = ['last-week', 'peak-rank'])\n",
    "hot100.head()"
   ]
  },
  {
   "cell_type": "code",
   "execution_count": null,
   "metadata": {},
   "outputs": [],
   "source": [
    "hot100.dtypes"
   ]
  },
  {
   "cell_type": "code",
   "execution_count": null,
   "metadata": {},
   "outputs": [],
   "source": [
    "# Transform date into a date-time value\n",
    "hot100[\"date\"] = pd.to_datetime(hot100[\"date\"])\n",
    "hot100.dtypes"
   ]
  },
  {
   "cell_type": "code",
   "execution_count": null,
   "metadata": {},
   "outputs": [],
   "source": [
    "# Sort by date\n",
    "hot100 = hot100.sort_values(by = 'date', ascending = False)\n",
    "hot100.head()"
   ]
  },
  {
   "cell_type": "code",
   "execution_count": null,
   "metadata": {},
   "outputs": [],
   "source": [
    "# Get the desired timeframe\n",
    "selecthot100 = hot100.loc[(hot100['date'] >= '2020-01-01') & (hot100['date'] <='2020-12-31')]\n",
    "selecthot100 = selecthot100.head(10)"
   ]
  },
  {
   "cell_type": "code",
   "execution_count": null,
   "metadata": {},
   "outputs": [],
   "source": [
    "def getTrackFeatures(song_id):\n",
    "    meta = sp.track(song_id)\n",
    "    features = sp.audio_features(song_id)\n",
    "    \n",
    "    track= {\n",
    "        # Meta data\n",
    "        \"song\": meta['name'],\n",
    "        \"album\": meta['album']['name'],\n",
    "        \"artist\": meta['album']['artists'][0]['name'],\n",
    "        \"release_date\": meta['album']['release_date'],\n",
    "        \"length\": meta['duration_ms'],\n",
    "        \"popularity\": meta['popularity'],\n",
    "\n",
    "        # features\n",
    "        \"acousticness\": features[0]['acousticness'],\n",
    "        \"danceability\": features[0]['danceability'],\n",
    "        \"energy\": features[0]['energy'],\n",
    "        \"instrumentalness\": features[0]['instrumentalness'],\n",
    "        \"liveness\": features[0]['liveness'],\n",
    "        \"loudness\": features[0]['loudness'],\n",
    "        \"speechiness\": features[0]['speechiness'],\n",
    "        \"tempo\": features[0]['tempo']\n",
    "    }\n",
    "    \n",
    "    return track"
   ]
  },
  {
   "cell_type": "code",
   "execution_count": null,
   "metadata": {},
   "outputs": [],
   "source": [
    "def searchSongs(title, artist):\n",
    "    cleaned_artist = artist.replace(\" Featuring\", \"\")\n",
    "    results = sp.search(q=f'track:{title} artist:{cleaned_artist}')\n",
    "    top_result = results['tracks']['items'][0]\n",
    "    hot_song_features = getTrackFeatures(top_result['id'])\n",
    "    return hot_song_features"
   ]
  },
  {
   "cell_type": "code",
   "execution_count": null,
   "metadata": {},
   "outputs": [],
   "source": [
    "def getSongData(row):\n",
    "    # Sleep to manage API calls for rate limitations\n",
    "    time.sleep(1)\n",
    "    song_details = searchSongs(row['song'], row['artist'])\n",
    "    song_details['popular_date'] = row['date']\n",
    "    song_details['ranking'] = row['rank']\n",
    "    song_details['weeks_on_board'] = row['weeks-on-board']\n",
    "    return song_details"
   ]
  },
  {
   "cell_type": "code",
   "execution_count": null,
   "metadata": {},
   "outputs": [],
   "source": [
    "hot_song_features = [getSongData(song) for idx, song in selecthot100.iterrows()]"
   ]
  },
  {
   "cell_type": "code",
   "execution_count": null,
   "metadata": {},
   "outputs": [],
   "source": [
    "cleaned_hot_songs = pd.DataFrame(data = hot_song_features)\n",
    "cleaned_hot_songs"
   ]
  },
  {
   "cell_type": "code",
   "execution_count": null,
   "metadata": {},
   "outputs": [],
   "source": [
    "# Connect to Postgres\n",
    "db_string = f'postgresql://{user_info}@{connection_string}'\n",
    "engine = create_engine(db_string)"
   ]
  },
  {
   "cell_type": "code",
   "execution_count": null,
   "metadata": {},
   "outputs": [],
   "source": [
    "# Send to Postgres\n",
    "cleaned_hot_songs.to_sql('popular_songs', con = engine, if_exists = 'replace', index = False, chunksize=5200)"
   ]
  },
  {
   "cell_type": "code",
   "execution_count": null,
   "metadata": {},
   "outputs": [],
   "source": []
  }
 ],
 "metadata": {
  "kernelspec": {
   "display_name": "KPythonData",
   "language": "python",
   "name": "kpythondata"
  },
  "language_info": {
   "codemirror_mode": {
    "name": "ipython",
    "version": 3
   },
   "file_extension": ".py",
   "mimetype": "text/x-python",
   "name": "python",
   "nbconvert_exporter": "python",
   "pygments_lexer": "ipython3",
   "version": "3.7.9"
  }
 },
 "nbformat": 4,
 "nbformat_minor": 4
}
