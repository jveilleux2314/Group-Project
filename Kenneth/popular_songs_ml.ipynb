{
 "cells": [
  {
   "cell_type": "code",
   "execution_count": null,
   "metadata": {},
   "outputs": [],
   "source": [
    "import numpy as np\n",
    "import pandas as pd\n",
    "import json\n",
    "from path import Path\n",
    "from sklearn.linear_model import LinearRegression\n",
    "from sklearn.model_selection import train_test_split\n",
    "from sklearn.preprocessing import StandardScaler\n",
    "from sklearn.neural_network import MLPClassifier\n",
    "from sklearn.metrics import classification_report, confusion_matrix\n",
    "from sklearn.metrics import balanced_accuracy_score\n",
    "import matplotlib.pyplot as plt"
   ]
  },
  {
   "cell_type": "code",
   "execution_count": null,
   "metadata": {},
   "outputs": [],
   "source": [
    "# set variable equal to loaded dataset\n",
    "tracks_df = pd.read_csv('popular_songs.csv', error_bad_lines=False)\n",
    "\n",
    "#tracks_df = pd.read_csv(file)\n",
    "#tracks_df.shape"
   ]
  },
  {
   "cell_type": "code",
   "execution_count": null,
   "metadata": {},
   "outputs": [],
   "source": [
    "tracks_df.head()"
   ]
  },
  {
   "cell_type": "code",
   "execution_count": null,
   "metadata": {},
   "outputs": [],
   "source": [
    "tracks_df.describe().transpose()"
   ]
  },
  {
   "cell_type": "code",
   "execution_count": null,
   "metadata": {},
   "outputs": [],
   "source": [
    "#get rid of white space before and after each column name\n",
    "tracks_df.columns = tracks_df.columns.str.strip()\n",
    "tracks_df.head()"
   ]
  },
  {
   "cell_type": "code",
   "execution_count": null,
   "metadata": {},
   "outputs": [],
   "source": [
    "new_tracks_df = tracks_df.drop(['song','artist','release_date','genres','popular_date'], axis =1)\n",
    "\n",
    "# Drop the null columns where all values are null\n",
    "new_tracks_df = new_tracks_df.dropna(axis='columns', how='all')\n",
    "\n",
    "# Drop the null rows\n",
    "new_tracks_df = new_tracks_df.dropna()\n",
    "\n",
    "new_tracks_df.tail()"
   ]
  },
  {
   "cell_type": "code",
   "execution_count": null,
   "metadata": {},
   "outputs": [],
   "source": [
    "wob_df = pd.DataFrame(new_tracks_df['weeks_on_board'])\n",
    "wob_df.describe()"
   ]
  },
  {
   "cell_type": "code",
   "execution_count": null,
   "metadata": {},
   "outputs": [],
   "source": [
    "# Create a box-and-whisker plot for the number of weeks on the board.\n",
    "# Outliers are values that are above 36 weeks on the board.\n",
    "\n",
    "x_labels = [\"Weeks On Board\"]\n",
    "fig, ax = plt.subplots(figsize=(20,26))\n",
    "ax.boxplot(wob_df, labels=x_labels)\n",
    "# Add the title, y-axis label and grid\n",
    "ax.set_title(\"Top 100 Billboard\")\n",
    "ax.set_ylabel(\"Number of weeks\")\n",
    "ax.set_yticks(np.arange(0, 100, step=1.0))\n",
    "ax.grid()\n",
    "plt.show()"
   ]
  },
  {
   "cell_type": "code",
   "execution_count": null,
   "metadata": {},
   "outputs": [],
   "source": [
    "header_list = ['popularity', 'acousticness', 'danceability', 'energy', 'instrumentalness', 'liveness', 'loudness', 'speechiness', 'tempo', 'ranking', 'weeks_on_board', 'target']\n",
    "new_tracks_df = new_tracks_df.reindex(columns = header_list)\n",
    "new_tracks_df.head()"
   ]
  },
  {
   "cell_type": "code",
   "execution_count": null,
   "metadata": {},
   "outputs": [],
   "source": [
    "# The average number of weeks that a song is on the billboard is 12 weeks.\n",
    "# Create a for loop that determines if the row value in weeks_on_board column is greater than or equal to 12 and assign\n",
    "# it a new value of 0 and add it to the 'target' column and everything else change to a 1.\n",
    "for index in new_tracks_df.index:\n",
    "    if new_tracks_df.loc[index,'weeks_on_board']>=12:\n",
    "        new_tracks_df.loc[index,'target'] = 0\n",
    "    else:\n",
    "        new_tracks_df.loc[index,'target'] = 1"
   ]
  },
  {
   "cell_type": "code",
   "execution_count": 113,
   "metadata": {},
   "outputs": [
    {
     "data": {
      "text/html": [
       "<div>\n",
       "<style scoped>\n",
       "    .dataframe tbody tr th:only-of-type {\n",
       "        vertical-align: middle;\n",
       "    }\n",
       "\n",
       "    .dataframe tbody tr th {\n",
       "        vertical-align: top;\n",
       "    }\n",
       "\n",
       "    .dataframe thead th {\n",
       "        text-align: right;\n",
       "    }\n",
       "</style>\n",
       "<table border=\"1\" class=\"dataframe\">\n",
       "  <thead>\n",
       "    <tr style=\"text-align: right;\">\n",
       "      <th></th>\n",
       "      <th>popularity</th>\n",
       "      <th>acousticness</th>\n",
       "      <th>danceability</th>\n",
       "      <th>energy</th>\n",
       "      <th>instrumentalness</th>\n",
       "      <th>liveness</th>\n",
       "      <th>loudness</th>\n",
       "      <th>speechiness</th>\n",
       "      <th>tempo</th>\n",
       "      <th>ranking</th>\n",
       "      <th>weeks_on_board</th>\n",
       "      <th>target</th>\n",
       "    </tr>\n",
       "  </thead>\n",
       "  <tbody>\n",
       "    <tr>\n",
       "      <th>0</th>\n",
       "      <td>76.0</td>\n",
       "      <td>0.0906</td>\n",
       "      <td>0.499</td>\n",
       "      <td>0.800</td>\n",
       "      <td>0.000000</td>\n",
       "      <td>0.1470</td>\n",
       "      <td>-2.665</td>\n",
       "      <td>0.0502</td>\n",
       "      <td>139.919</td>\n",
       "      <td>70</td>\n",
       "      <td>19</td>\n",
       "      <td>0.0</td>\n",
       "    </tr>\n",
       "    <tr>\n",
       "      <th>1</th>\n",
       "      <td>78.0</td>\n",
       "      <td>0.0334</td>\n",
       "      <td>0.721</td>\n",
       "      <td>0.716</td>\n",
       "      <td>0.000840</td>\n",
       "      <td>0.2370</td>\n",
       "      <td>-7.037</td>\n",
       "      <td>0.0657</td>\n",
       "      <td>104.994</td>\n",
       "      <td>67</td>\n",
       "      <td>8</td>\n",
       "      <td>1.0</td>\n",
       "    </tr>\n",
       "    <tr>\n",
       "      <th>2</th>\n",
       "      <td>71.0</td>\n",
       "      <td>0.1880</td>\n",
       "      <td>0.846</td>\n",
       "      <td>0.748</td>\n",
       "      <td>0.000000</td>\n",
       "      <td>0.0930</td>\n",
       "      <td>-3.512</td>\n",
       "      <td>0.0780</td>\n",
       "      <td>90.006</td>\n",
       "      <td>68</td>\n",
       "      <td>6</td>\n",
       "      <td>1.0</td>\n",
       "    </tr>\n",
       "    <tr>\n",
       "      <th>3</th>\n",
       "      <td>45.0</td>\n",
       "      <td>0.2950</td>\n",
       "      <td>0.803</td>\n",
       "      <td>0.715</td>\n",
       "      <td>0.000134</td>\n",
       "      <td>0.0574</td>\n",
       "      <td>-3.280</td>\n",
       "      <td>0.2980</td>\n",
       "      <td>101.085</td>\n",
       "      <td>69</td>\n",
       "      <td>7</td>\n",
       "      <td>1.0</td>\n",
       "    </tr>\n",
       "    <tr>\n",
       "      <th>4</th>\n",
       "      <td>71.0</td>\n",
       "      <td>0.0360</td>\n",
       "      <td>0.445</td>\n",
       "      <td>0.492</td>\n",
       "      <td>0.000000</td>\n",
       "      <td>0.1220</td>\n",
       "      <td>-5.717</td>\n",
       "      <td>0.0294</td>\n",
       "      <td>148.013</td>\n",
       "      <td>75</td>\n",
       "      <td>3</td>\n",
       "      <td>1.0</td>\n",
       "    </tr>\n",
       "  </tbody>\n",
       "</table>\n",
       "</div>"
      ],
      "text/plain": [
       "   popularity  acousticness  danceability  energy  instrumentalness  liveness  \\\n",
       "0        76.0        0.0906         0.499   0.800          0.000000    0.1470   \n",
       "1        78.0        0.0334         0.721   0.716          0.000840    0.2370   \n",
       "2        71.0        0.1880         0.846   0.748          0.000000    0.0930   \n",
       "3        45.0        0.2950         0.803   0.715          0.000134    0.0574   \n",
       "4        71.0        0.0360         0.445   0.492          0.000000    0.1220   \n",
       "\n",
       "   loudness  speechiness    tempo  ranking  weeks_on_board  target  \n",
       "0    -2.665       0.0502  139.919       70              19     0.0  \n",
       "1    -7.037       0.0657  104.994       67               8     1.0  \n",
       "2    -3.512       0.0780   90.006       68               6     1.0  \n",
       "3    -3.280       0.2980  101.085       69               7     1.0  \n",
       "4    -5.717       0.0294  148.013       75               3     1.0  "
      ]
     },
     "execution_count": 113,
     "metadata": {},
     "output_type": "execute_result"
    }
   ],
   "source": [
    "new_tracks_df.head()"
   ]
  },
  {
   "cell_type": "code",
   "execution_count": 115,
   "metadata": {},
   "outputs": [
    {
     "data": {
      "text/html": [
       "<div>\n",
       "<style scoped>\n",
       "    .dataframe tbody tr th:only-of-type {\n",
       "        vertical-align: middle;\n",
       "    }\n",
       "\n",
       "    .dataframe tbody tr th {\n",
       "        vertical-align: top;\n",
       "    }\n",
       "\n",
       "    .dataframe thead th {\n",
       "        text-align: right;\n",
       "    }\n",
       "</style>\n",
       "<table border=\"1\" class=\"dataframe\">\n",
       "  <thead>\n",
       "    <tr style=\"text-align: right;\">\n",
       "      <th></th>\n",
       "      <th>popularity</th>\n",
       "      <th>acousticness</th>\n",
       "      <th>danceability</th>\n",
       "      <th>energy</th>\n",
       "      <th>instrumentalness</th>\n",
       "      <th>liveness</th>\n",
       "      <th>loudness</th>\n",
       "      <th>speechiness</th>\n",
       "      <th>tempo</th>\n",
       "      <th>ranking</th>\n",
       "      <th>target</th>\n",
       "    </tr>\n",
       "  </thead>\n",
       "  <tbody>\n",
       "    <tr>\n",
       "      <th>0</th>\n",
       "      <td>76.0</td>\n",
       "      <td>0.0906</td>\n",
       "      <td>0.499</td>\n",
       "      <td>0.800</td>\n",
       "      <td>0.000000</td>\n",
       "      <td>0.1470</td>\n",
       "      <td>-2.665</td>\n",
       "      <td>0.0502</td>\n",
       "      <td>139.919</td>\n",
       "      <td>70</td>\n",
       "      <td>0.0</td>\n",
       "    </tr>\n",
       "    <tr>\n",
       "      <th>1</th>\n",
       "      <td>78.0</td>\n",
       "      <td>0.0334</td>\n",
       "      <td>0.721</td>\n",
       "      <td>0.716</td>\n",
       "      <td>0.000840</td>\n",
       "      <td>0.2370</td>\n",
       "      <td>-7.037</td>\n",
       "      <td>0.0657</td>\n",
       "      <td>104.994</td>\n",
       "      <td>67</td>\n",
       "      <td>1.0</td>\n",
       "    </tr>\n",
       "    <tr>\n",
       "      <th>2</th>\n",
       "      <td>71.0</td>\n",
       "      <td>0.1880</td>\n",
       "      <td>0.846</td>\n",
       "      <td>0.748</td>\n",
       "      <td>0.000000</td>\n",
       "      <td>0.0930</td>\n",
       "      <td>-3.512</td>\n",
       "      <td>0.0780</td>\n",
       "      <td>90.006</td>\n",
       "      <td>68</td>\n",
       "      <td>1.0</td>\n",
       "    </tr>\n",
       "    <tr>\n",
       "      <th>3</th>\n",
       "      <td>45.0</td>\n",
       "      <td>0.2950</td>\n",
       "      <td>0.803</td>\n",
       "      <td>0.715</td>\n",
       "      <td>0.000134</td>\n",
       "      <td>0.0574</td>\n",
       "      <td>-3.280</td>\n",
       "      <td>0.2980</td>\n",
       "      <td>101.085</td>\n",
       "      <td>69</td>\n",
       "      <td>1.0</td>\n",
       "    </tr>\n",
       "    <tr>\n",
       "      <th>4</th>\n",
       "      <td>71.0</td>\n",
       "      <td>0.0360</td>\n",
       "      <td>0.445</td>\n",
       "      <td>0.492</td>\n",
       "      <td>0.000000</td>\n",
       "      <td>0.1220</td>\n",
       "      <td>-5.717</td>\n",
       "      <td>0.0294</td>\n",
       "      <td>148.013</td>\n",
       "      <td>75</td>\n",
       "      <td>1.0</td>\n",
       "    </tr>\n",
       "  </tbody>\n",
       "</table>\n",
       "</div>"
      ],
      "text/plain": [
       "   popularity  acousticness  danceability  energy  instrumentalness  liveness  \\\n",
       "0        76.0        0.0906         0.499   0.800          0.000000    0.1470   \n",
       "1        78.0        0.0334         0.721   0.716          0.000840    0.2370   \n",
       "2        71.0        0.1880         0.846   0.748          0.000000    0.0930   \n",
       "3        45.0        0.2950         0.803   0.715          0.000134    0.0574   \n",
       "4        71.0        0.0360         0.445   0.492          0.000000    0.1220   \n",
       "\n",
       "   loudness  speechiness    tempo  ranking  target  \n",
       "0    -2.665       0.0502  139.919       70     0.0  \n",
       "1    -7.037       0.0657  104.994       67     1.0  \n",
       "2    -3.512       0.0780   90.006       68     1.0  \n",
       "3    -3.280       0.2980  101.085       69     1.0  \n",
       "4    -5.717       0.0294  148.013       75     1.0  "
      ]
     },
     "execution_count": 115,
     "metadata": {},
     "output_type": "execute_result"
    }
   ],
   "source": [
    "target_tracks_df = new_tracks_df.drop(columns = \"weeks_on_board\")\n",
    "target_tracks_df.head()"
   ]
  },
  {
   "cell_type": "code",
   "execution_count": null,
   "metadata": {},
   "outputs": [],
   "source": []
  },
  {
   "cell_type": "code",
   "execution_count": null,
   "metadata": {},
   "outputs": [],
   "source": []
  },
  {
   "cell_type": "code",
   "execution_count": null,
   "metadata": {},
   "outputs": [],
   "source": []
  },
  {
   "cell_type": "markdown",
   "metadata": {},
   "source": [
    "# Use the Nueral Network MLPClassifier ML Model for the target_tracks_df\n",
    "    1. This dataframe excludes the number of weeks on the board and instead uses a binary outcome. This binary values was determined by if the weeks on board is greater than or equal to 12 then change to 0, else change to 1.\n",
    "    \n",
    "\n",
    "### Create features and split into training and testing "
   ]
  },
  {
   "cell_type": "code",
   "execution_count": 116,
   "metadata": {},
   "outputs": [],
   "source": [
    "# Create our features\n",
    "X = target_tracks_df.drop(columns = \"target\")\n",
    "#X = pd.get_dummies(X)\n",
    "\n",
    "# Create our target\n",
    "y = target_tracks_df[\"target\"]"
   ]
  },
  {
   "cell_type": "code",
   "execution_count": 117,
   "metadata": {},
   "outputs": [
    {
     "data": {
      "text/html": [
       "<div>\n",
       "<style scoped>\n",
       "    .dataframe tbody tr th:only-of-type {\n",
       "        vertical-align: middle;\n",
       "    }\n",
       "\n",
       "    .dataframe tbody tr th {\n",
       "        vertical-align: top;\n",
       "    }\n",
       "\n",
       "    .dataframe thead th {\n",
       "        text-align: right;\n",
       "    }\n",
       "</style>\n",
       "<table border=\"1\" class=\"dataframe\">\n",
       "  <thead>\n",
       "    <tr style=\"text-align: right;\">\n",
       "      <th></th>\n",
       "      <th>popularity</th>\n",
       "      <th>acousticness</th>\n",
       "      <th>danceability</th>\n",
       "      <th>energy</th>\n",
       "      <th>instrumentalness</th>\n",
       "      <th>liveness</th>\n",
       "      <th>loudness</th>\n",
       "      <th>speechiness</th>\n",
       "      <th>tempo</th>\n",
       "      <th>ranking</th>\n",
       "    </tr>\n",
       "  </thead>\n",
       "  <tbody>\n",
       "    <tr>\n",
       "      <th>count</th>\n",
       "      <td>52395.000000</td>\n",
       "      <td>52395.000000</td>\n",
       "      <td>52395.000000</td>\n",
       "      <td>52395.000000</td>\n",
       "      <td>52395.000000</td>\n",
       "      <td>52395.000000</td>\n",
       "      <td>52395.000000</td>\n",
       "      <td>52395.000000</td>\n",
       "      <td>52395.000000</td>\n",
       "      <td>52395.000000</td>\n",
       "    </tr>\n",
       "    <tr>\n",
       "      <th>mean</th>\n",
       "      <td>63.208398</td>\n",
       "      <td>0.166375</td>\n",
       "      <td>0.646721</td>\n",
       "      <td>0.676498</td>\n",
       "      <td>0.010053</td>\n",
       "      <td>0.178256</td>\n",
       "      <td>-5.936540</td>\n",
       "      <td>0.101920</td>\n",
       "      <td>122.542894</td>\n",
       "      <td>50.471037</td>\n",
       "    </tr>\n",
       "    <tr>\n",
       "      <th>std</th>\n",
       "      <td>16.218658</td>\n",
       "      <td>0.209721</td>\n",
       "      <td>0.135772</td>\n",
       "      <td>0.166208</td>\n",
       "      <td>0.076090</td>\n",
       "      <td>0.135081</td>\n",
       "      <td>2.303629</td>\n",
       "      <td>0.102682</td>\n",
       "      <td>28.346675</td>\n",
       "      <td>28.863363</td>\n",
       "    </tr>\n",
       "    <tr>\n",
       "      <th>min</th>\n",
       "      <td>0.000000</td>\n",
       "      <td>0.000014</td>\n",
       "      <td>0.076800</td>\n",
       "      <td>0.002310</td>\n",
       "      <td>0.000000</td>\n",
       "      <td>0.020000</td>\n",
       "      <td>-42.887000</td>\n",
       "      <td>0.022500</td>\n",
       "      <td>48.718000</td>\n",
       "      <td>1.000000</td>\n",
       "    </tr>\n",
       "    <tr>\n",
       "      <th>25%</th>\n",
       "      <td>57.000000</td>\n",
       "      <td>0.021900</td>\n",
       "      <td>0.557000</td>\n",
       "      <td>0.567000</td>\n",
       "      <td>0.000000</td>\n",
       "      <td>0.094500</td>\n",
       "      <td>-7.031000</td>\n",
       "      <td>0.037800</td>\n",
       "      <td>99.643000</td>\n",
       "      <td>25.000000</td>\n",
       "    </tr>\n",
       "    <tr>\n",
       "      <th>50%</th>\n",
       "      <td>66.000000</td>\n",
       "      <td>0.075400</td>\n",
       "      <td>0.652000</td>\n",
       "      <td>0.698000</td>\n",
       "      <td>0.000000</td>\n",
       "      <td>0.124000</td>\n",
       "      <td>-5.603000</td>\n",
       "      <td>0.055400</td>\n",
       "      <td>122.504000</td>\n",
       "      <td>50.000000</td>\n",
       "    </tr>\n",
       "    <tr>\n",
       "      <th>75%</th>\n",
       "      <td>73.000000</td>\n",
       "      <td>0.228000</td>\n",
       "      <td>0.742000</td>\n",
       "      <td>0.805000</td>\n",
       "      <td>0.000011</td>\n",
       "      <td>0.224000</td>\n",
       "      <td>-4.421000</td>\n",
       "      <td>0.121000</td>\n",
       "      <td>140.309000</td>\n",
       "      <td>75.000000</td>\n",
       "    </tr>\n",
       "    <tr>\n",
       "      <th>max</th>\n",
       "      <td>97.000000</td>\n",
       "      <td>0.996000</td>\n",
       "      <td>0.981000</td>\n",
       "      <td>0.996000</td>\n",
       "      <td>0.973000</td>\n",
       "      <td>0.989000</td>\n",
       "      <td>0.175000</td>\n",
       "      <td>0.951000</td>\n",
       "      <td>208.067000</td>\n",
       "      <td>100.000000</td>\n",
       "    </tr>\n",
       "  </tbody>\n",
       "</table>\n",
       "</div>"
      ],
      "text/plain": [
       "         popularity  acousticness  danceability        energy  \\\n",
       "count  52395.000000  52395.000000  52395.000000  52395.000000   \n",
       "mean      63.208398      0.166375      0.646721      0.676498   \n",
       "std       16.218658      0.209721      0.135772      0.166208   \n",
       "min        0.000000      0.000014      0.076800      0.002310   \n",
       "25%       57.000000      0.021900      0.557000      0.567000   \n",
       "50%       66.000000      0.075400      0.652000      0.698000   \n",
       "75%       73.000000      0.228000      0.742000      0.805000   \n",
       "max       97.000000      0.996000      0.981000      0.996000   \n",
       "\n",
       "       instrumentalness      liveness      loudness   speechiness  \\\n",
       "count      52395.000000  52395.000000  52395.000000  52395.000000   \n",
       "mean           0.010053      0.178256     -5.936540      0.101920   \n",
       "std            0.076090      0.135081      2.303629      0.102682   \n",
       "min            0.000000      0.020000    -42.887000      0.022500   \n",
       "25%            0.000000      0.094500     -7.031000      0.037800   \n",
       "50%            0.000000      0.124000     -5.603000      0.055400   \n",
       "75%            0.000011      0.224000     -4.421000      0.121000   \n",
       "max            0.973000      0.989000      0.175000      0.951000   \n",
       "\n",
       "              tempo       ranking  \n",
       "count  52395.000000  52395.000000  \n",
       "mean     122.542894     50.471037  \n",
       "std       28.346675     28.863363  \n",
       "min       48.718000      1.000000  \n",
       "25%       99.643000     25.000000  \n",
       "50%      122.504000     50.000000  \n",
       "75%      140.309000     75.000000  \n",
       "max      208.067000    100.000000  "
      ]
     },
     "execution_count": 117,
     "metadata": {},
     "output_type": "execute_result"
    }
   ],
   "source": [
    "X.describe()"
   ]
  },
  {
   "cell_type": "code",
   "execution_count": 118,
   "metadata": {},
   "outputs": [
    {
     "data": {
      "text/plain": [
       "1.0    29045\n",
       "0.0    23350\n",
       "Name: target, dtype: int64"
      ]
     },
     "execution_count": 118,
     "metadata": {},
     "output_type": "execute_result"
    }
   ],
   "source": [
    "# Check the balance of our target values\n",
    "y.value_counts()"
   ]
  },
  {
   "cell_type": "code",
   "execution_count": 119,
   "metadata": {},
   "outputs": [],
   "source": [
    "# train the data\n",
    "X_train, X_test, y_train, y_test = train_test_split(X,\n",
    "                                                    y,\n",
    "                                                    test_size=0.25,\n",
    "                                                    random_state = 1)"
   ]
  },
  {
   "cell_type": "code",
   "execution_count": 120,
   "metadata": {},
   "outputs": [
    {
     "data": {
      "text/plain": [
       "(39296, 10)"
      ]
     },
     "execution_count": 120,
     "metadata": {},
     "output_type": "execute_result"
    }
   ],
   "source": [
    "# def accuracy(confusion_matrix):\n",
    "#     diagonal_sum = confusion_matrix.trace()\n",
    "#     sum_of_all_elements = confusion_matrix.sum()\n",
    "#     return diagonal_sum / sum_of_all_elements\n",
    "\n",
    "X_train.shape"
   ]
  },
  {
   "cell_type": "code",
   "execution_count": 121,
   "metadata": {},
   "outputs": [
    {
     "data": {
      "text/plain": [
       "(13099, 10)"
      ]
     },
     "execution_count": 121,
     "metadata": {},
     "output_type": "execute_result"
    }
   ],
   "source": [
    "X_test.shape"
   ]
  },
  {
   "cell_type": "markdown",
   "metadata": {},
   "source": [
    "### Standardization: StandardScaler"
   ]
  },
  {
   "cell_type": "code",
   "execution_count": 122,
   "metadata": {},
   "outputs": [],
   "source": [
    "scaler = StandardScaler()"
   ]
  },
  {
   "cell_type": "code",
   "execution_count": 123,
   "metadata": {},
   "outputs": [],
   "source": [
    "train_scaled = scaler.fit_transform(X_train)"
   ]
  },
  {
   "cell_type": "code",
   "execution_count": 124,
   "metadata": {},
   "outputs": [],
   "source": [
    "test_scaled = scaler.transform(X_test)"
   ]
  },
  {
   "cell_type": "code",
   "execution_count": 125,
   "metadata": {},
   "outputs": [],
   "source": [
    "#Initializing the MLPClassifier\n",
    "\n",
    "model = MLPClassifier(solver='lbfgs', random_state=42)"
   ]
  },
  {
   "cell_type": "code",
   "execution_count": 126,
   "metadata": {},
   "outputs": [
    {
     "name": "stderr",
     "output_type": "stream",
     "text": [
      "C:\\Users\\kbead\\anaconda3\\envs\\mlenv\\lib\\site-packages\\sklearn\\neural_network\\_multilayer_perceptron.py:500: ConvergenceWarning: lbfgs failed to converge (status=1):\n",
      "STOP: TOTAL NO. of ITERATIONS REACHED LIMIT.\n",
      "\n",
      "Increase the number of iterations (max_iter) or scale the data as shown in:\n",
      "    https://scikit-learn.org/stable/modules/preprocessing.html\n",
      "  self.n_iter_ = _check_optimize_result(\"lbfgs\", opt_res, self.max_iter)\n"
     ]
    },
    {
     "data": {
      "text/plain": [
       "MLPClassifier(random_state=42, solver='lbfgs')"
      ]
     },
     "execution_count": 126,
     "metadata": {},
     "output_type": "execute_result"
    }
   ],
   "source": [
    "#Fitting the training data to the network\n",
    "model.fit(train_scaled, y_train)"
   ]
  },
  {
   "cell_type": "code",
   "execution_count": 127,
   "metadata": {},
   "outputs": [],
   "source": [
    "from sklearn.metrics import accuracy_score\n",
    "y_pred = model.predict(test_scaled)"
   ]
  },
  {
   "cell_type": "code",
   "execution_count": 128,
   "metadata": {},
   "outputs": [
    {
     "data": {
      "text/plain": [
       "72.12947882736157"
      ]
     },
     "execution_count": 128,
     "metadata": {},
     "output_type": "execute_result"
    }
   ],
   "source": [
    "accuracy_score(y_train, model.predict(train_scaled))*100"
   ]
  },
  {
   "cell_type": "code",
   "execution_count": 129,
   "metadata": {},
   "outputs": [
    {
     "data": {
      "text/plain": [
       "70.28017405908848"
      ]
     },
     "execution_count": 129,
     "metadata": {},
     "output_type": "execute_result"
    }
   ],
   "source": [
    "accuracy_score(y_test, y_pred)*100"
   ]
  },
  {
   "cell_type": "code",
   "execution_count": 130,
   "metadata": {},
   "outputs": [
    {
     "data": {
      "text/plain": [
       "array([[3801, 2077],\n",
       "       [1816, 5405]], dtype=int64)"
      ]
     },
     "execution_count": 130,
     "metadata": {},
     "output_type": "execute_result"
    }
   ],
   "source": [
    "cm = confusion_matrix\n",
    "cm(y_test, y_pred)"
   ]
  },
  {
   "cell_type": "code",
   "execution_count": null,
   "metadata": {},
   "outputs": [],
   "source": []
  },
  {
   "cell_type": "markdown",
   "metadata": {},
   "source": [
    "# Use the Nueral Network MLPClassifier ML Model for the new_tracks_df\n",
    "    1. This dataframe includes the number of weeks on the board and uses the binary values that were determined by if the weeks on board is greater than or equal to 12 then change to 0, else change to 1.\n",
    "    \n",
    "\n",
    "### Create features and split into training and testing "
   ]
  },
  {
   "cell_type": "code",
   "execution_count": 131,
   "metadata": {},
   "outputs": [],
   "source": [
    "# Create our features\n",
    "X = new_tracks_df.drop(columns = \"target\")\n",
    "#X = pd.get_dummies(X)\n",
    "\n",
    "# Create our target\n",
    "y = new_tracks_df[\"target\"]"
   ]
  },
  {
   "cell_type": "code",
   "execution_count": 132,
   "metadata": {},
   "outputs": [
    {
     "data": {
      "text/html": [
       "<div>\n",
       "<style scoped>\n",
       "    .dataframe tbody tr th:only-of-type {\n",
       "        vertical-align: middle;\n",
       "    }\n",
       "\n",
       "    .dataframe tbody tr th {\n",
       "        vertical-align: top;\n",
       "    }\n",
       "\n",
       "    .dataframe thead th {\n",
       "        text-align: right;\n",
       "    }\n",
       "</style>\n",
       "<table border=\"1\" class=\"dataframe\">\n",
       "  <thead>\n",
       "    <tr style=\"text-align: right;\">\n",
       "      <th></th>\n",
       "      <th>popularity</th>\n",
       "      <th>acousticness</th>\n",
       "      <th>danceability</th>\n",
       "      <th>energy</th>\n",
       "      <th>instrumentalness</th>\n",
       "      <th>liveness</th>\n",
       "      <th>loudness</th>\n",
       "      <th>speechiness</th>\n",
       "      <th>tempo</th>\n",
       "      <th>ranking</th>\n",
       "      <th>weeks_on_board</th>\n",
       "    </tr>\n",
       "  </thead>\n",
       "  <tbody>\n",
       "    <tr>\n",
       "      <th>count</th>\n",
       "      <td>52395.000000</td>\n",
       "      <td>52395.000000</td>\n",
       "      <td>52395.000000</td>\n",
       "      <td>52395.000000</td>\n",
       "      <td>52395.000000</td>\n",
       "      <td>52395.000000</td>\n",
       "      <td>52395.000000</td>\n",
       "      <td>52395.000000</td>\n",
       "      <td>52395.000000</td>\n",
       "      <td>52395.000000</td>\n",
       "      <td>52395.000000</td>\n",
       "    </tr>\n",
       "    <tr>\n",
       "      <th>mean</th>\n",
       "      <td>63.208398</td>\n",
       "      <td>0.166375</td>\n",
       "      <td>0.646721</td>\n",
       "      <td>0.676498</td>\n",
       "      <td>0.010053</td>\n",
       "      <td>0.178256</td>\n",
       "      <td>-5.936540</td>\n",
       "      <td>0.101920</td>\n",
       "      <td>122.542894</td>\n",
       "      <td>50.471037</td>\n",
       "      <td>12.278118</td>\n",
       "    </tr>\n",
       "    <tr>\n",
       "      <th>std</th>\n",
       "      <td>16.218658</td>\n",
       "      <td>0.209721</td>\n",
       "      <td>0.135772</td>\n",
       "      <td>0.166208</td>\n",
       "      <td>0.076090</td>\n",
       "      <td>0.135081</td>\n",
       "      <td>2.303629</td>\n",
       "      <td>0.102682</td>\n",
       "      <td>28.346675</td>\n",
       "      <td>28.863363</td>\n",
       "      <td>10.130632</td>\n",
       "    </tr>\n",
       "    <tr>\n",
       "      <th>min</th>\n",
       "      <td>0.000000</td>\n",
       "      <td>0.000014</td>\n",
       "      <td>0.076800</td>\n",
       "      <td>0.002310</td>\n",
       "      <td>0.000000</td>\n",
       "      <td>0.020000</td>\n",
       "      <td>-42.887000</td>\n",
       "      <td>0.022500</td>\n",
       "      <td>48.718000</td>\n",
       "      <td>1.000000</td>\n",
       "      <td>1.000000</td>\n",
       "    </tr>\n",
       "    <tr>\n",
       "      <th>25%</th>\n",
       "      <td>57.000000</td>\n",
       "      <td>0.021900</td>\n",
       "      <td>0.557000</td>\n",
       "      <td>0.567000</td>\n",
       "      <td>0.000000</td>\n",
       "      <td>0.094500</td>\n",
       "      <td>-7.031000</td>\n",
       "      <td>0.037800</td>\n",
       "      <td>99.643000</td>\n",
       "      <td>25.000000</td>\n",
       "      <td>4.000000</td>\n",
       "    </tr>\n",
       "    <tr>\n",
       "      <th>50%</th>\n",
       "      <td>66.000000</td>\n",
       "      <td>0.075400</td>\n",
       "      <td>0.652000</td>\n",
       "      <td>0.698000</td>\n",
       "      <td>0.000000</td>\n",
       "      <td>0.124000</td>\n",
       "      <td>-5.603000</td>\n",
       "      <td>0.055400</td>\n",
       "      <td>122.504000</td>\n",
       "      <td>50.000000</td>\n",
       "      <td>10.000000</td>\n",
       "    </tr>\n",
       "    <tr>\n",
       "      <th>75%</th>\n",
       "      <td>73.000000</td>\n",
       "      <td>0.228000</td>\n",
       "      <td>0.742000</td>\n",
       "      <td>0.805000</td>\n",
       "      <td>0.000011</td>\n",
       "      <td>0.224000</td>\n",
       "      <td>-4.421000</td>\n",
       "      <td>0.121000</td>\n",
       "      <td>140.309000</td>\n",
       "      <td>75.000000</td>\n",
       "      <td>17.000000</td>\n",
       "    </tr>\n",
       "    <tr>\n",
       "      <th>max</th>\n",
       "      <td>97.000000</td>\n",
       "      <td>0.996000</td>\n",
       "      <td>0.981000</td>\n",
       "      <td>0.996000</td>\n",
       "      <td>0.973000</td>\n",
       "      <td>0.989000</td>\n",
       "      <td>0.175000</td>\n",
       "      <td>0.951000</td>\n",
       "      <td>208.067000</td>\n",
       "      <td>100.000000</td>\n",
       "      <td>87.000000</td>\n",
       "    </tr>\n",
       "  </tbody>\n",
       "</table>\n",
       "</div>"
      ],
      "text/plain": [
       "         popularity  acousticness  danceability        energy  \\\n",
       "count  52395.000000  52395.000000  52395.000000  52395.000000   \n",
       "mean      63.208398      0.166375      0.646721      0.676498   \n",
       "std       16.218658      0.209721      0.135772      0.166208   \n",
       "min        0.000000      0.000014      0.076800      0.002310   \n",
       "25%       57.000000      0.021900      0.557000      0.567000   \n",
       "50%       66.000000      0.075400      0.652000      0.698000   \n",
       "75%       73.000000      0.228000      0.742000      0.805000   \n",
       "max       97.000000      0.996000      0.981000      0.996000   \n",
       "\n",
       "       instrumentalness      liveness      loudness   speechiness  \\\n",
       "count      52395.000000  52395.000000  52395.000000  52395.000000   \n",
       "mean           0.010053      0.178256     -5.936540      0.101920   \n",
       "std            0.076090      0.135081      2.303629      0.102682   \n",
       "min            0.000000      0.020000    -42.887000      0.022500   \n",
       "25%            0.000000      0.094500     -7.031000      0.037800   \n",
       "50%            0.000000      0.124000     -5.603000      0.055400   \n",
       "75%            0.000011      0.224000     -4.421000      0.121000   \n",
       "max            0.973000      0.989000      0.175000      0.951000   \n",
       "\n",
       "              tempo       ranking  weeks_on_board  \n",
       "count  52395.000000  52395.000000    52395.000000  \n",
       "mean     122.542894     50.471037       12.278118  \n",
       "std       28.346675     28.863363       10.130632  \n",
       "min       48.718000      1.000000        1.000000  \n",
       "25%       99.643000     25.000000        4.000000  \n",
       "50%      122.504000     50.000000       10.000000  \n",
       "75%      140.309000     75.000000       17.000000  \n",
       "max      208.067000    100.000000       87.000000  "
      ]
     },
     "execution_count": 132,
     "metadata": {},
     "output_type": "execute_result"
    }
   ],
   "source": [
    "X.describe()"
   ]
  },
  {
   "cell_type": "code",
   "execution_count": 133,
   "metadata": {},
   "outputs": [
    {
     "data": {
      "text/plain": [
       "1.0    29045\n",
       "0.0    23350\n",
       "Name: target, dtype: int64"
      ]
     },
     "execution_count": 133,
     "metadata": {},
     "output_type": "execute_result"
    }
   ],
   "source": [
    "# Check the balance of our target values\n",
    "y.value_counts()"
   ]
  },
  {
   "cell_type": "code",
   "execution_count": 134,
   "metadata": {},
   "outputs": [],
   "source": [
    "# train the data\n",
    "X_train, X_test, y_train, y_test = train_test_split(X,\n",
    "                                                    y,\n",
    "                                                    test_size=0.25,\n",
    "                                                    random_state = 1)"
   ]
  },
  {
   "cell_type": "code",
   "execution_count": 135,
   "metadata": {},
   "outputs": [
    {
     "data": {
      "text/plain": [
       "(39296, 11)"
      ]
     },
     "execution_count": 135,
     "metadata": {},
     "output_type": "execute_result"
    }
   ],
   "source": [
    "X_train.shape"
   ]
  },
  {
   "cell_type": "code",
   "execution_count": 136,
   "metadata": {},
   "outputs": [
    {
     "data": {
      "text/plain": [
       "(13099, 11)"
      ]
     },
     "execution_count": 136,
     "metadata": {},
     "output_type": "execute_result"
    }
   ],
   "source": [
    "X_test.shape"
   ]
  },
  {
   "cell_type": "code",
   "execution_count": 137,
   "metadata": {},
   "outputs": [],
   "source": [
    "scaler = StandardScaler()"
   ]
  },
  {
   "cell_type": "code",
   "execution_count": 138,
   "metadata": {},
   "outputs": [],
   "source": [
    "train_scaled = scaler.fit_transform(X_train)"
   ]
  },
  {
   "cell_type": "code",
   "execution_count": 139,
   "metadata": {},
   "outputs": [],
   "source": [
    "test_scaled = scaler.transform(X_test)"
   ]
  },
  {
   "cell_type": "code",
   "execution_count": 140,
   "metadata": {},
   "outputs": [],
   "source": [
    "#Initializing the MLPClassifier\n",
    "\n",
    "model = MLPClassifier(solver='lbfgs', random_state=42)"
   ]
  },
  {
   "cell_type": "code",
   "execution_count": 141,
   "metadata": {},
   "outputs": [
    {
     "data": {
      "text/plain": [
       "MLPClassifier(random_state=42, solver='lbfgs')"
      ]
     },
     "execution_count": 141,
     "metadata": {},
     "output_type": "execute_result"
    }
   ],
   "source": [
    "#Fitting the training data to the network\n",
    "model.fit(train_scaled, y_train)"
   ]
  },
  {
   "cell_type": "code",
   "execution_count": 142,
   "metadata": {},
   "outputs": [],
   "source": [
    "from sklearn.metrics import accuracy_score\n",
    "y_pred = model.predict(test_scaled)"
   ]
  },
  {
   "cell_type": "code",
   "execution_count": 143,
   "metadata": {},
   "outputs": [
    {
     "data": {
      "text/plain": [
       "100.0"
      ]
     },
     "execution_count": 143,
     "metadata": {},
     "output_type": "execute_result"
    }
   ],
   "source": [
    "accuracy_score(y_train, model.predict(train_scaled))*100"
   ]
  },
  {
   "cell_type": "code",
   "execution_count": 144,
   "metadata": {},
   "outputs": [
    {
     "data": {
      "text/plain": [
       "100.0"
      ]
     },
     "execution_count": 144,
     "metadata": {},
     "output_type": "execute_result"
    }
   ],
   "source": [
    "accuracy_score(y_test, y_pred)*100"
   ]
  },
  {
   "cell_type": "code",
   "execution_count": 145,
   "metadata": {},
   "outputs": [
    {
     "data": {
      "text/plain": [
       "array([[5878,    0],\n",
       "       [   0, 7221]], dtype=int64)"
      ]
     },
     "execution_count": 145,
     "metadata": {},
     "output_type": "execute_result"
    }
   ],
   "source": [
    "cm = confusion_matrix\n",
    "cm(y_test, y_pred)"
   ]
  },
  {
   "cell_type": "code",
   "execution_count": null,
   "metadata": {},
   "outputs": [],
   "source": []
  }
 ],
 "metadata": {
  "kernelspec": {
   "display_name": "Python 3",
   "language": "python",
   "name": "python3"
  },
  "language_info": {
   "codemirror_mode": {
    "name": "ipython",
    "version": 3
   },
   "file_extension": ".py",
   "mimetype": "text/x-python",
   "name": "python",
   "nbconvert_exporter": "python",
   "pygments_lexer": "ipython3",
   "version": "3.7.10"
  }
 },
 "nbformat": 4,
 "nbformat_minor": 4
}
